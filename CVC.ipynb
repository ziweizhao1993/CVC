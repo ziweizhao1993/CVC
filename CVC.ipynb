{
 "cells": [
  {
   "cell_type": "code",
   "execution_count": 3,
   "metadata": {},
   "outputs": [],
   "source": [
    "from numpy.core.numeric import True_\n",
    "import sys\n",
    "import os\n",
    "import numpy as np\n",
    "import torch\n",
    "import torch.nn as nn\n",
    "import torch.nn.functional as F\n",
    "import torchvision\n",
    "import torch.optim as optim\n",
    "from tqdm import tqdm\n",
    "from torch.utils.data import Dataset, DataLoader\n",
    "from matplotlib import pyplot as plt\n",
    "from PIL import Image, ImageDraw\n",
    "from IPython import display\n",
    "from torchvision import transforms\n",
    "\n",
    "dataset = \"mnist\"\n",
    "device = torch.device(\"cuda:0\" if torch.cuda.is_available() else \"cpu\")\n",
    "if torch.cuda.is_available():\n",
    "    os.environ[\"CUDA_DEVICE_ORDER\"]=\"PCI_BUS_ID\"\n",
    "    os.environ[\"CUDA_VISIBLE_DEVICES\"]=\"0\"\n",
    "\n",
    "num_epochs = 50\n",
    "num_samples = 100\n",
    "colab = False\n",
    "results_path = \"/l/vision/magnezone_ssd/ziweizhao/c2c_vae_cfe/results\"\n",
    "train_oracle = False\n",
    "train_vae = False\n",
    "train_c2c_vae = False"
   ]
  },
  {
   "cell_type": "code",
   "execution_count": 7,
   "metadata": {},
   "outputs": [],
   "source": [
    "from torchvision.datasets import MNIST\n",
    "batch_size = 100\n",
    "train_transform = transforms.Compose([\n",
    "    transforms.ToTensor()\n",
    "])\n",
    "\n",
    "test_transform = transforms.Compose([\n",
    "    transforms.ToTensor()\n",
    "])\n",
    "\n",
    "if colab:\n",
    "    from google.colab import drive\n",
    "    drive.mount('/content/gdrive')\n",
    "\n",
    "data_path = '/content/gdrive/My Drive/datasets/mnist' if colab else '/l/vision/magnezone_ssd/ziweizhao/dataset/mnist'\n",
    "\n",
    "train_dataset = MNIST(root=data_path, download=True, train=True, transform=train_transform)\n",
    "train_dataloader = DataLoader(train_dataset, batch_size=batch_size, shuffle=True)\n",
    "\n",
    "test_dataset = MNIST(root=data_path, download=True, train=False, transform=test_transform)\n",
    "test_dataloader = DataLoader(test_dataset, batch_size=batch_size, shuffle=True)\n"
   ]
  },
  {
   "cell_type": "code",
   "execution_count": 8,
   "metadata": {},
   "outputs": [],
   "source": [
    "def eval_mnist(model, dataloader):\n",
    "    model.eval()\n",
    "    correct = 0\n",
    "    count = 0\n",
    "    for image, label in dataloader:\n",
    "        with torch.no_grad():\n",
    "            output = model(image.to(device))\n",
    "            label = label.to(device)\n",
    "\n",
    "            correct += torch.sum(torch.argmax(output, axis=1)==label)\n",
    "            count += label.size(0)\n",
    "    \n",
    "    return (correct.item()/count)\n",
    "\n"
   ]
  },
  {
   "cell_type": "code",
   "execution_count": 9,
   "metadata": {},
   "outputs": [
    {
     "name": "stdout",
     "output_type": "stream",
     "text": [
      "0.9901\n"
     ]
    }
   ],
   "source": [
    "#The classifier to be explained\n",
    "oracle = torchvision.models.resnet18(pretrained=False)\n",
    "oracle.conv1 = nn.Conv2d(1, 64, kernel_size=(7, 7), stride=(2, 2), padding=(3, 3), bias=False)\n",
    "oracle.fc = nn.Linear(in_features=512, out_features=10, bias=True)\n",
    "\n",
    "if train_oracle == False:\n",
    "    filename = '/l/vision/magnezone_ssd/ziweizhao/c2c_vae/models/'+dataset+'_oracle.pth'\n",
    "    oracle.load_state_dict(torch.load(filename))\n",
    "    oracle = oracle.to(device)\n",
    "    oracle.eval()\n",
    "else:\n",
    "    oracle = oracle.to(device)\n",
    "    num_batches = len(train_dataloader)\n",
    "\n",
    "    loss_fn = nn.CrossEntropyLoss().to(device)\n",
    "    optimizer = optim.SGD(oracle.parameters(), lr=1e-3, momentum=0.9)\n",
    "    best_accuracy = 0.0\n",
    "    for epoch in range(num_epochs):\n",
    "        total_loss = 0\n",
    "        oracle.train()\n",
    "\n",
    "        progress = tqdm(enumerate(train_dataloader), desc=\"Loss: \", total=num_batches)\n",
    "\n",
    "        for i, data in progress:\n",
    "            image, label = data[0].to(device), data[1].to(device)\n",
    "\n",
    "            outputs = oracle(image)\n",
    "            loss = loss_fn(outputs, label)\n",
    "            oracle.zero_grad()\n",
    "            loss.backward()\n",
    "            optimizer.step()\n",
    "\n",
    "            current_loss = loss.item()\n",
    "            total_loss += current_loss\n",
    "\n",
    "            progress.set_description(\"Loss: {:.4f}\".format(total_loss/(i+1)))\n",
    "\n",
    "        accuracy = eval_mnist(oracle, test_dataloader)\n",
    "        if accuracy > best_accuracy:\n",
    "            best_accuracy = accuracy\n",
    "            model_name = '/l/vision/magnezone_ssd/ziweizhao/c2c_vae/models/'+dataset+'_oracle.pth'\n",
    "            torch.save(oracle.state_dict(), model_name)\n",
    "        \n",
    "print (eval_mnist(oracle, test_dataloader))"
   ]
  },
  {
   "cell_type": "code",
   "execution_count": 10,
   "metadata": {},
   "outputs": [],
   "source": [
    "latent_dims = 32\n",
    "capacity = 64\n",
    "variational_beta = 1"
   ]
  },
  {
   "cell_type": "code",
   "execution_count": 11,
   "metadata": {},
   "outputs": [],
   "source": [
    "class Encoder(nn.Module):\n",
    "    def __init__(self):\n",
    "        super(Encoder, self).__init__()\n",
    "        c = capacity\n",
    "        self.conv1 = nn.Conv2d(in_channels=1, out_channels=c, kernel_size=4, stride=2, padding=1)\n",
    "        self.conv2 = nn.Conv2d(in_channels=c, out_channels=c*2, kernel_size=4, stride=2, padding=1)\n",
    "        self.fc_mu = nn.Linear(in_features=c*2*7*7, out_features=latent_dims)\n",
    "        self.fc_logvar = nn.Linear(in_features=c*2*7*7, out_features=latent_dims)\n",
    "            \n",
    "    def forward(self, x):\n",
    "        x = F.relu(self.conv1(x))\n",
    "        x = F.relu(self.conv2(x))\n",
    "        x = x.view(x.size(0), -1)\n",
    "        x_mu = self.fc_mu(x)\n",
    "        x_logvar = self.fc_logvar(x)\n",
    "        return x_mu, x_logvar\n",
    "\n",
    "class Decoder(nn.Module):\n",
    "    def __init__(self):\n",
    "        super(Decoder, self).__init__()\n",
    "        c = capacity\n",
    "        self.fc = nn.Linear(in_features=latent_dims, out_features=c*2*7*7)\n",
    "        self.conv2 = nn.ConvTranspose2d(in_channels=c*2, out_channels=c, kernel_size=4, stride=2, padding=1)\n",
    "        self.conv1 = nn.ConvTranspose2d(in_channels=c, out_channels=1, kernel_size=4, stride=2, padding=1)\n",
    "            \n",
    "    def forward(self, x):\n",
    "        x = self.fc(x)\n",
    "        x = x.view(x.size(0), capacity*2, 7, 7)\n",
    "        x = F.relu(self.conv2(x))\n",
    "        x = torch.sigmoid(self.conv1(x))\n",
    "        return x\n",
    "    \n",
    "class VariationalAutoencoder(nn.Module):\n",
    "    def __init__(self):\n",
    "        super(VariationalAutoencoder, self).__init__()\n",
    "        self.encoder = Encoder()\n",
    "        self.decoder = Decoder()\n",
    "    \n",
    "    def forward(self, x):\n",
    "        latent_mu, latent_logvar = self.encoder(x)\n",
    "        latent = self.latent_sample(latent_mu, latent_logvar)\n",
    "        x_recon = self.decoder(latent)\n",
    "        return x_recon, latent_mu, latent_logvar\n",
    "    \n",
    "    def latent_sample(self, mu, logvar):\n",
    "        if self.training:\n",
    "            std = logvar.mul(0.5).exp_()\n",
    "            eps = torch.empty_like(std).normal_()\n",
    "            return eps.mul(std).add_(mu)\n",
    "        else:\n",
    "            return mu\n",
    "    \n",
    "def vae_loss(recon_x, x, mu, logvar):\n",
    "    recon_loss = F.binary_cross_entropy(recon_x.view(-1, 784), x.view(-1, 784), reduction='sum')\n",
    "    kldivergence = -0.5 * torch.sum(1 + logvar - mu.pow(2) - logvar.exp())\n",
    "    \n",
    "    return recon_loss + variational_beta * kldivergence\n"
   ]
  },
  {
   "cell_type": "code",
   "execution_count": 12,
   "metadata": {},
   "outputs": [],
   "source": [
    "def eval_vae(vae, dataloader):\n",
    "    vae.eval()\n",
    "\n",
    "    test_loss_avg, num_batches = 0, 0\n",
    "    for image_batch, _ in dataloader:\n",
    "\n",
    "        with torch.no_grad():\n",
    "\n",
    "            image_batch = image_batch.to(device)\n",
    "            image_batch_recon, latent_mu, latent_logvar = vae(image_batch)\n",
    "            loss = vae_loss(image_batch_recon, image_batch, latent_mu, latent_logvar)\n",
    "\n",
    "            test_loss_avg += loss.item()\n",
    "            num_batches += 1\n",
    "\n",
    "    test_loss_avg /= num_batches\n",
    "    return (test_loss_avg)"
   ]
  },
  {
   "cell_type": "code",
   "execution_count": 13,
   "metadata": {},
   "outputs": [
    {
     "name": "stdout",
     "output_type": "stream",
     "text": [
      "done\n"
     ]
    }
   ],
   "source": [
    "vae = VariationalAutoencoder()\n",
    "vae = vae.to(device)\n",
    "\n",
    "optimizer = torch.optim.Adam(params=vae.parameters(), lr=1e-3, weight_decay=1e-5)\n",
    "\n",
    "if train_vae == False:   \n",
    "    filename = '/l/vision/magnezone_ssd/ziweizhao/c2c_vae/models/'+dataset+'_vae_'+str(variational_beta)+'.pth'\n",
    "    vae.load_state_dict(torch.load(filename) )\n",
    "    print('done')\n",
    "    \n",
    "else:\n",
    "    train_loss_avg = []\n",
    "    best_val_loss = 1e10\n",
    "    print('Training vae ...')\n",
    "    for epoch in range(num_epochs):\n",
    "        vae.train()\n",
    "        train_loss_avg.append(0)\n",
    "        num_batches = 0\n",
    "    \n",
    "        for image_batch, _ in train_dataloader:\n",
    "\n",
    "            image_batch = image_batch.to(device)\n",
    "            image_batch_recon, latent_mu, latent_logvar = vae(image_batch)\n",
    "            loss = vae_loss(image_batch_recon, image_batch, latent_mu, latent_logvar)\n",
    "            optimizer.zero_grad()\n",
    "            loss.backward()\n",
    "            optimizer.step()\n",
    "\n",
    "            train_loss_avg[-1] += loss.item()\n",
    "            num_batches += 1\n",
    "\n",
    "        train_loss_avg[-1] /= num_batches\n",
    "        print('Epoch [%d / %d] average loss: %f' % (epoch+1, num_epochs, train_loss_avg[-1]))\n",
    "\n",
    "        val_loss = eval_vae(vae, test_dataloader)\n",
    "        if val_loss < best_val_loss:\n",
    "            best_val_loss = val_loss\n",
    "            model_name = '/l/vision/magnezone_ssd/ziweizhao/c2c_vae/models/'+dataset+'_vae_'+str(variational_beta)+'.pth'\n",
    "            torch.save(vae.state_dict(), model_name)\n",
    "            print(\"new best val loss {}, saving model\".format(val_loss))"
   ]
  },
  {
   "cell_type": "code",
   "execution_count": 14,
   "metadata": {},
   "outputs": [],
   "source": [
    "vae.eval()\n",
    "\n",
    "sample_count = np.zeros(10)\n",
    "tensor_sum = torch.zeros([10,latent_dims])\n",
    "for image_batch, labels in train_dataloader:\n",
    "    i = 0\n",
    "    with torch.no_grad():\n",
    "    \n",
    "        image_batch = image_batch.to(device)\n",
    "        image_batch_recon, latent_mu, latent_logvar = vae(image_batch)\n",
    "        for j in range(labels.size()[0]):\n",
    "            j = labels[j].item()\n",
    "            sample_count[j] += 1\n",
    "            tensor_sum[j,:] += latent_mu[i,:].detach().cpu()\n",
    "\n",
    "            i += 1\n",
    "\n",
    "prototype_mus = torch.zeros([10,latent_dims])\n",
    "prototypes = torch.Tensor(10,1,28,28)\n",
    "\n",
    "for i in range(10):\n",
    "    prototype_mus[i,:] = tensor_sum[i,:]/sample_count[i]\n",
    "    prototypes[i,:,:,:] = vae.decoder(prototype_mus[i,:].unsqueeze(0).to(device))"
   ]
  },
  {
   "cell_type": "code",
   "execution_count": 15,
   "metadata": {},
   "outputs": [],
   "source": [
    "c2c_latent_dims = 10\n",
    "c2c_capacity = 32\n",
    "c2c_variational_beta = 1\n",
    "label_size = 10"
   ]
  },
  {
   "cell_type": "code",
   "execution_count": 16,
   "metadata": {},
   "outputs": [],
   "source": [
    "class c2c_Encoder(nn.Module):\n",
    "    def __init__(self):\n",
    "        super(c2c_Encoder, self).__init__()\n",
    "        self.fc1 = nn.Linear(in_features=latent_dims + label_size*2, out_features=c2c_capacity)\n",
    "        self.fc_mu = nn.Linear(in_features=c2c_capacity, out_features=c2c_latent_dims)\n",
    "        self.fc_logvar = nn.Linear(in_features=c2c_capacity, out_features=c2c_latent_dims)\n",
    "    def forward(self, x):\n",
    "        x = F.relu(self.fc1(x))\n",
    "        x_mu = self.fc_mu(x)\n",
    "        x_logvar = self.fc_logvar(x)\n",
    "        return x_mu, x_logvar\n",
    "\n",
    "class c2c_Decoder(nn.Module):\n",
    "    def __init__(self):\n",
    "        super(c2c_Decoder, self).__init__()\n",
    "        self.fc2 = nn.Linear(in_features=c2c_latent_dims + label_size*2, out_features=c2c_capacity)\n",
    "        self.fc1 = nn.Linear(in_features=c2c_capacity, out_features=latent_dims)\n",
    "            \n",
    "    def forward(self, x):\n",
    "        x = self.fc2(x)\n",
    "        x = self.fc1(x)\n",
    "        return x\n",
    "    \n",
    "class c2c_VariationalAutoencoder(nn.Module):\n",
    "    def __init__(self):\n",
    "        super(c2c_VariationalAutoencoder, self).__init__()\n",
    "        self.encoder = c2c_Encoder()\n",
    "        self.decoder = c2c_Decoder()\n",
    "    \n",
    "    def forward(self, x):\n",
    "        x,label = torch.split(x,(latent_dims,label_size*2),dim = 1)\n",
    "        c2c_latent_mu, c2c_latent_logvar = self.encoder(torch.cat((x,label), dim=1))\n",
    "        c2c_latent = self.latent_sample(c2c_latent_mu, c2c_latent_logvar)\n",
    "        x_recon = self.decoder(torch.cat((c2c_latent,label), dim=1))\n",
    "        return x_recon, c2c_latent_mu, c2c_latent_logvar\n",
    "    \n",
    "    def latent_sample(self, mu, logvar):\n",
    "        if self.training:\n",
    "            std = logvar.mul(0.5).exp_()\n",
    "            eps = torch.empty_like(std).normal_()\n",
    "            return eps.mul(std).add_(mu)\n",
    "        else:\n",
    "            return mu\n",
    "    \n",
    "def c2c_vae_loss(recon_x, x, mu, logvar):\n",
    "    recon_loss = F.mse_loss(recon_x.view(-1, latent_dims), x.view(-1, latent_dims), reduction='sum')\n",
    "    \n",
    "    kldivergence = -0.5 * torch.sum(1 + logvar - mu.pow(2) - logvar.exp())\n",
    "    \n",
    "    return recon_loss + c2c_variational_beta * kldivergence\n",
    "    \n"
   ]
  },
  {
   "cell_type": "code",
   "execution_count": 17,
   "metadata": {},
   "outputs": [
    {
     "name": "stdout",
     "output_type": "stream",
     "text": [
      "done\n"
     ]
    }
   ],
   "source": [
    "c2c_vae = c2c_VariationalAutoencoder()\n",
    "c2c_vae = c2c_vae.to(device)\n",
    "\n",
    "optimizer = torch.optim.Adam(params=c2c_vae.parameters(), lr=1e-3, weight_decay=1e-5)\n",
    "vae.eval()\n",
    "train_loss_avg = []\n",
    "if train_c2c_vae == False:\n",
    "    filename = '/l/vision/magnezone_ssd/ziweizhao/c2c_vae/models/'+dataset+'_c2c_vae_'+str(c2c_variational_beta)+'.pth'\n",
    "    c2c_vae.load_state_dict(torch.load(filename))\n",
    "    c2c_vae.eval()\n",
    "    print('done')\n",
    "\n",
    "else:\n",
    "    best_val_loss = 1e10\n",
    "    print('Training ...')\n",
    "    for epoch in range(num_epochs):\n",
    "        c2c_vae.train()\n",
    "        train_loss_avg.append(0)\n",
    "        num_batches = 0\n",
    "\n",
    "        for i in range(100):\n",
    "            images1, labels1 = iter(train_dataloader).next()\n",
    "            images2, labels2 = iter(train_dataloader).next()\n",
    "            images1 = images1.to(device)\n",
    "            image_batch_recon1, latent_mu1, latent_logvar1 = vae(images1)\n",
    "            images2 = images2.to(device)\n",
    "            image_batch_recon2, latent_mu2, latent_logvar2 = vae(images2)       \n",
    "            latent_diff = latent_mu1 - latent_mu2 \n",
    "            label_diff = torch.cat((F.one_hot(labels1, num_classes=label_size),F.one_hot(labels2, num_classes=label_size)), dim=1)\n",
    "\n",
    "            latent_diff = latent_diff.to(device)\n",
    "            label_diff = label_diff.float().to(device)\n",
    "            c2c_input = torch.cat((latent_diff,label_diff), dim=1)\n",
    "            c2c_input = c2c_input.to(device)\n",
    "            c2c_recon, c2c_latent_mu, c2c_latent_logvar = c2c_vae(c2c_input)\n",
    "            loss = c2c_vae_loss(c2c_recon, latent_diff.detach(), c2c_latent_mu, c2c_latent_logvar)\n",
    "            optimizer.zero_grad()\n",
    "            loss.backward()\n",
    "\n",
    "            optimizer.step()\n",
    "            train_loss_avg[-1] += loss.item()\n",
    "            num_batches += 1\n",
    "\n",
    "        train_loss_avg[-1] /= num_batches\n",
    "        print('Epoch [%d / %d] average reconstruction error: %f' % (epoch+1, num_epochs, train_loss_avg[-1]))\n",
    "        val_loss = eval_c2c_vae(c2c_vae, vae, test_dataloader)\n",
    "        if val_loss < best_val_loss:\n",
    "            best_val_loss = val_loss\n",
    "            model_name = '/l/vision/magnezone_ssd/ziweizhao/c2c_vae/models/'+dataset+'_c2c_vae_'+str(c2c_variational_beta)+'.pth'\n",
    "            torch.save(c2c_vae.state_dict(), model_name)\n",
    "            print(\"new best val loss {}, saving model\".format(val_loss))\n",
    "        "
   ]
  },
  {
   "cell_type": "code",
   "execution_count": 21,
   "metadata": {},
   "outputs": [],
   "source": [
    "def c2c_vae_cfe_v3(label1, label2, query, oracle):\n",
    "    N_guides = 4\n",
    "    c2c_vae.eval()\n",
    "    label_diff = torch.cat((F.one_hot(torch.tensor([label1]), num_classes=label_size),F.one_hot(torch.tensor([label2]), num_classes=label_size)), dim=1)\n",
    "    label_diff = label_diff.to(device)\n",
    "\n",
    "    with torch.no_grad():\n",
    "        _, latent_mu1, _ = vae(query.to(device))\n",
    "    \n",
    "    for i in range(1):\n",
    "        flag = False\n",
    "        latent_diffs = torch.empty(N_guides,10).normal_(mean=0,std=0.5).to(device)\n",
    "        label_diff_repeated = label_diff.repeat(N_guides, 1)\n",
    "        c2c_encoding = torch.cat((latent_diffs,label_diff_repeated.float()), dim=1)\n",
    "        \n",
    "        with torch.no_grad():\n",
    "            c2c_recon = c2c_vae.decoder(c2c_encoding)\n",
    "            recon_from_c2c_recon = vae.decoder(latent_mu1 - c2c_recon).cpu()\n",
    "    \n",
    "        queries = torch.cat([query]*N_guides,axis=0)\n",
    "        diff = (recon_from_c2c_recon-queries)**2\n",
    "        guide_idx = torch.argmin(torch.sum(torch.sum(diff,axis=2),axis=2))\n",
    "        native_guide = recon_from_c2c_recon[guide_idx,:,:]\n",
    "        guide_latent = (latent_mu1 - c2c_recon)[guide_idx]\n",
    "        \n",
    "        with torch.no_grad():\n",
    "            _, latent_mu2, _ = vae(native_guide.to(device).unsqueeze(0))\n",
    "            new_latent_mu = 0.5*latent_mu1 + 0.5*latent_mu2\n",
    "            cfe = vae.decoder(new_latent_mu)\n",
    "        inter_lambda = 0.5\n",
    "    return (cfe[0].cpu(), native_guide.cpu(), inter_lambda, guide_latent, recon_from_c2c_recon)\n",
    "    \n",
    "    "
   ]
  },
  {
   "cell_type": "code",
   "execution_count": 19,
   "metadata": {},
   "outputs": [],
   "source": [
    "digits = [[] for _ in range(10)]\n",
    "\n",
    "for img_batch, label_batch in train_dataloader:\n",
    "    for i in range(img_batch.size(0)):\n",
    "        digits[label_batch[i]].append(img_batch[i:i+1])\n",
    "    if sum(len(d) for d in digits) >= 10000:\n",
    "        break;"
   ]
  },
  {
   "cell_type": "code",
   "execution_count": 58,
   "metadata": {},
   "outputs": [
    {
     "data": {
      "image/png": "[encoded data removed]",
      "text/plain": [
       "<Figure size 1000x1000 with 3 Axes>"
      ]
     },
     "metadata": {
      "needs_background": "light"
     },
     "output_type": "display_data"
    },
    {
     "data": {
      "image/png": "[encoded data removed]",
      "text/plain": [
       "<Figure size 1000x1000 with 3 Axes>"
      ]
     },
     "metadata": {
      "needs_background": "light"
     },
     "output_type": "display_data"
    },
    {
     "data": {
      "image/png": "[encoded data removed]",
      "text/plain": [
       "<Figure size 1000x1000 with 3 Axes>"
      ]
     },
     "metadata": {
      "needs_background": "light"
     },
     "output_type": "display_data"
    },
    {
     "data": {
      "image/png": "[encoded data removed]",
      "text/plain": [
       "<Figure size 1000x1000 with 3 Axes>"
      ]
     },
     "metadata": {
      "needs_background": "light"
     },
     "output_type": "display_data"
    },
    {
     "data": {
      "image/png": "[encoded data removed]",
      "text/plain": [
       "<Figure size 1000x1000 with 3 Axes>"
      ]
     },
     "metadata": {
      "needs_background": "light"
     },
     "output_type": "display_data"
    }
   ],
   "source": [
    "label1s = [8,5,3,7,7]\n",
    "label2s = [2,6,9,4,1]\n",
    "\n",
    "for i in range(5):\n",
    "    label1 = label1s[i]\n",
    "    label2 = label2s[i]\n",
    "    query_img = torch.tensor(np.load(\"test\"+str(i+1)+\".npy\"))\n",
    "    #prediction = oracle(query_img.to(device))[0]\n",
    "    #_, indices = torch.topk(prediction, 2)\n",
    "    #if indices[0].item() == label1:\n",
    "    #    label2 = indices[1].item()\n",
    "    #else:\n",
    "    #    label2 = indices[0].item()\n",
    "    #label1 is query label, label2 is target label\n",
    "            \n",
    "    if (label1 == label2):\n",
    "        print (\"same label\")\n",
    "            #print (digits[label1][10][0,0,:,:])\n",
    "    query = torch.clamp(query_img,0.0,1.0)\n",
    "    cfe,guide,_,guide_latent,recon_from_c2c_recon = c2c_vae_cfe_v3(label1, label2, query, oracle)\n",
    "\n",
    "    fig, ax = plt.subplots(nrows=1, ncols=3, figsize=(10, 10), dpi=100) #, sharex=True, sharey=True\n",
    "    plt.axis('off')\n",
    "    fig.suptitle(str(label1)+\"to\"+str(label2), y=0.66)\n",
    "    ax[0].imshow(query[0].permute(1,2,0))\n",
    "    ax[0].axis('off')\n",
    "    ax[0].set_title('Query')\n",
    "    ax[1].imshow(cfe.permute(1,2,0))\n",
    "    ax[1].axis('off')\n",
    "    ax[1].set_title('Counterfactual')\n",
    "    ax[2].imshow(guide.permute(1,2,0))\n",
    "    ax[2].axis('off')\n",
    "    ax[2].set_title('Guide')        \n"
   ]
  },
  {
   "cell_type": "code",
   "execution_count": null,
   "metadata": {},
   "outputs": [],
   "source": []
  }
 ],
 "metadata": {
  "kernelspec": {
   "display_name": "pytorchonly",
   "language": "python",
   "name": "pytorchonly"
  },
  "language_info": {
   "codemirror_mode": {
    "name": "ipython",
    "version": 3
   },
   "file_extension": ".py",
   "mimetype": "text/x-python",
   "name": "python",
   "nbconvert_exporter": "python",
   "pygments_lexer": "ipython3",
   "version": "3.9.7"
  }
 },
 "nbformat": 4,
 "nbformat_minor": 4
}
